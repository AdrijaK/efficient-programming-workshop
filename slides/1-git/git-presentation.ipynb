{
 "metadata": {
  "celltoolbar": "Slideshow",
  "name": "",
  "signature": "sha256:1e0f05cf24067ab7a82c6e15388144a24f3cd2db1999d32c08509aa33a7451d4"
 },
 "nbformat": 3,
 "nbformat_minor": 0,
 "worksheets": [
  {
   "cells": [
    {
     "cell_type": "markdown",
     "metadata": {
      "slideshow": {
       "slide_type": "slide"
      }
     },
     "source": [
      "# Version control with `git`\n",
      "\n",
      "**Alexander Junge**\n",
      "\n",
      "**CBioVikings Efficient Programming Workshop**\n",
      "\n",
      "**May 5, 2015**\n",
      "\n",
      "based on Software Carpentry material:\n",
      "\n",
      "http://software-carpentry.org/lessons.html"
     ]
    },
    {
     "cell_type": "markdown",
     "metadata": {
      "slideshow": {
       "slide_type": "slide"
      }
     },
     "source": [
      "## Motivation\n",
      "\n",
      "![](img/phd101212s.gif)\n",
      "\n",
      "http://www.phdcomics.com/comics/archive.php?comicid=1531"
     ]
    },
    {
     "cell_type": "markdown",
     "metadata": {
      "slideshow": {
       "slide_type": "subslide"
      }
     },
     "source": [
      "`git` - a **digital lab notebook** fostering **collaboration**"
     ]
    },
    {
     "cell_type": "markdown",
     "metadata": {
      "slideshow": {
       "slide_type": "slide"
      }
     },
     "source": [
      "## Creating a local `git` repository\n",
      "\n",
      "Following examples are are using `git` from a `Unix Shell`."
     ]
    },
    {
     "cell_type": "markdown",
     "metadata": {
      "slideshow": {
       "slide_type": "fragment"
      }
     },
     "source": [
      "```\n",
      "$ mkdir -p ~/CBioVikings/git-example\n",
      "$ cd ~/CBioVikings/git-example\n",
      "\n",
      "$ git init\n",
      "```\n",
      "\n",
      "> Initialized empty Git repository in /home/ajunge/CBioVikings/git-example/.git/\n"
     ]
    },
    {
     "cell_type": "markdown",
     "metadata": {
      "slideshow": {
       "slide_type": "fragment"
      }
     },
     "source": [
      "```\n",
      "$ git status\n",
      "```\n",
      "\n",
      "> On branch master\n",
      ">\n",
      ">Initial commit\n",
      ">\n",
      ">nothing to commit (create/copy files and use \"git add\" to track)"
     ]
    },
    {
     "cell_type": "markdown",
     "metadata": {
      "slideshow": {
       "slide_type": "slide"
      }
     },
     "source": [
      "## Adding files to the repository"
     ]
    },
    {
     "cell_type": "markdown",
     "metadata": {},
     "source": [
      "```\n",
      "$ echo 'Hello.' > text.txt\n",
      "$ ls\n",
      "```\n",
      "\n",
      "> text.txt"
     ]
    },
    {
     "cell_type": "markdown",
     "metadata": {
      "slideshow": {
       "slide_type": "fragment"
      }
     },
     "source": [
      "```\n",
      "$ git status\n",
      "```\n",
      "\n",
      ">On branch master\n",
      ">\n",
      ">Initial commit\n",
      ">\n",
      ">Untracked files:\n",
      ">    (use \"git add <file>...\" to include in what will be committed)\n",
      ">\n",
      ">    text.txt\n",
      ">\n",
      ">nothing added to commit but untracked files present (use \"git add\" to track)"
     ]
    },
    {
     "cell_type": "markdown",
     "metadata": {
      "slideshow": {
       "slide_type": "fragment"
      }
     },
     "source": [
      "```\n",
      "$ git add text.txt\n",
      "$ git status\n",
      "```\n",
      "\n",
      ">On branch master\n",
      ">\n",
      ">Initial commit\n",
      ">\n",
      ">Changes to be committed:\n",
      ">  (use \"git rm --cached <file>...\" to unstage)\n",
      ">\n",
      ">\tnew file:   text.txt"
     ]
    },
    {
     "cell_type": "markdown",
     "metadata": {
      "slideshow": {
       "slide_type": "fragment"
      }
     },
     "source": [
      "```\n",
      "$ git commit -m 'Add dummy file.'\n",
      "```\n",
      "\n",
      "> [master (root-commit) b84a11d] Add dummy file.\n",
      ">\n",
      "> 1 file changed, 1 insertion(+)\n",
      ">\n",
      "> create mode 100644 text.txt"
     ]
    },
    {
     "cell_type": "markdown",
     "metadata": {
      "slideshow": {
       "slide_type": "fragment"
      }
     },
     "source": [
      "```\n",
      "$ git status\n",
      "```\n",
      "\n",
      ">On branch master\n",
      ">\n",
      ">nothing to commit, working directory clean"
     ]
    },
    {
     "cell_type": "markdown",
     "metadata": {
      "slideshow": {
       "slide_type": "fragment"
      }
     },
     "source": [
      "```\n",
      "$ git log\n",
      "```\n",
      "\n",
      "> commit b84a11d265f3b7b9517ade5fdff7ed7c5fc33cf8\n",
      ">\n",
      "> Author: Alexander Junge <ajunge@rth.dk>\n",
      "> \n",
      "> Date:   Wed Apr 8 09:54:10 2015 +0200\n",
      ">\n",
      ">    Add dummy file."
     ]
    },
    {
     "cell_type": "markdown",
     "metadata": {
      "slideshow": {
       "slide_type": "slide"
      }
     },
     "source": [
      "## Modifying files"
     ]
    },
    {
     "cell_type": "markdown",
     "metadata": {},
     "source": [
      "```\n",
      "$ echo 'Some more text.' >> text.txt\n",
      "$ git status\n",
      "```\n",
      "\n",
      ">On branch master\n",
      ">\n",
      ">Changes not staged for commit:\n",
      ">\n",
      ">(use \"git add <file>...\" to update what will be committed)\n",
      ">\n",
      ">(use \"git checkout -- <file>...\" to discard changes in working directory)\n",
      ">\n",
      ">\tmodified:   text.txt\n",
      ">\n",
      ">no changes added to commit (use \"git add\" and/or \"git commit -a\")"
     ]
    },
    {
     "cell_type": "markdown",
     "metadata": {
      "slideshow": {
       "slide_type": "fragment"
      }
     },
     "source": [
      "```\n",
      "$ git diff\n",
      "```\n",
      "\n",
      "> diff --git a/text.txt b/text.txt\n",
      ">\n",
      ">index 18832d3..13ab1d7 100644\n",
      ">\n",
      ">--- a/text.txt\n",
      ">\n",
      ">+++ b/text.txt\n",
      ">\n",
      ">@@ -1 +1,2 @@\n",
      ">\n",
      ">Hello.\n",
      ">\n",
      ">+Some more text."
     ]
    },
    {
     "cell_type": "markdown",
     "metadata": {
      "slideshow": {
       "slide_type": "fragment"
      }
     },
     "source": [
      "```\n",
      "$ git add text.txt\n",
      "$ git status\n",
      "```\n",
      "\n",
      ">On branch master\n",
      ">\n",
      ">Changes to be committed:\n",
      ">\n",
      ">   (use \"git reset HEAD <file>...\" to unstage)\n",
      ">\n",
      ">\tmodified:   text.txt"
     ]
    },
    {
     "cell_type": "markdown",
     "metadata": {
      "slideshow": {
       "slide_type": "fragment"
      }
     },
     "source": [
      "```\n",
      "$ git commit -m 'And we add some text.'\n",
      "```\n",
      "\n",
      ">[master 5ad4569] And we add some text.\n",
      ">\n",
      ">1 file changed, 1 insertion(+)"
     ]
    },
    {
     "cell_type": "markdown",
     "metadata": {
      "slideshow": {
       "slide_type": "slide"
      }
     },
     "source": [
      "## Complete add/commit workflow\n",
      "\n",
      "![](img/git-committing.svg)"
     ]
    },
    {
     "cell_type": "markdown",
     "metadata": {
      "slideshow": {
       "slide_type": "slide"
      }
     },
     "source": [
      "## Messing things up and fixing them with `git`"
     ]
    },
    {
     "cell_type": "markdown",
     "metadata": {},
     "source": [
      "```\n",
      "$ echo 'OVERWRITE!' > text.txt\n",
      "$ cat text.txt\n",
      "```\n",
      "\n",
      ">OVERWRITE!"
     ]
    },
    {
     "cell_type": "markdown",
     "metadata": {
      "slideshow": {
       "slide_type": "fragment"
      }
     },
     "source": [
      "```\n",
      "$ git diff\n",
      "```\n",
      "\n",
      ">diff --git a/text.txt b/text.txt\n",
      ">\n",
      ">index 13ab1d7..3c09594 100644\n",
      ">\n",
      ">--- a/text.txt\n",
      ">\n",
      ">+++ b/text.txt\n",
      ">\n",
      ">@@ -1,2 +1 @@\n",
      ">\n",
      ">-Hello.\n",
      ">\n",
      ">-Some more text.\n",
      ">\n",
      ">+OVERWRITE!"
     ]
    },
    {
     "cell_type": "markdown",
     "metadata": {
      "slideshow": {
       "slide_type": "fragment"
      }
     },
     "source": [
      "```\n",
      "$ git checkout HEAD text.txt\n",
      "$ cat text.txt\n",
      "```\n",
      "\n",
      ">Hello.\n",
      ">\n",
      ">Some more text."
     ]
    },
    {
     "cell_type": "markdown",
     "metadata": {
      "slideshow": {
       "slide_type": "slide"
      }
     },
     "source": [
      "## Collaboration with `git`\n",
      "\n",
      "Where did the commits in the previous example end up?"
     ]
    },
    {
     "cell_type": "markdown",
     "metadata": {},
     "source": [
      "```\n",
      "$ ls -la\n",
      "```\n",
      "\n",
      ">total 16\n",
      ">\n",
      ">drwxrwxr-x 3 ajunge ajunge 4096 Apr  8 14:03 .\n",
      ">\n",
      ">drwxrwxr-x 4 ajunge ajunge 4096 Apr  8 09:19 ..\n",
      ">\n",
      ">drwxrwxr-x 8 ajunge ajunge 4096 Apr  8 14:03 .git\n",
      ">\n",
      ">-rw-rw-r-- 1 ajunge ajunge   23 Apr  8 14:03 text.txt"
     ]
    },
    {
     "cell_type": "markdown",
     "metadata": {
      "slideshow": {
       "slide_type": "fragment"
      }
     },
     "source": [
      "Folder `.git` contains local repository.\n",
      "\n",
      "#### What if you would like to work on a project with your friend?"
     ]
    },
    {
     "cell_type": "markdown",
     "metadata": {
      "slideshow": {
       "slide_type": "slide"
      }
     },
     "source": [
      "## Collaboration with `git`"
     ]
    },
    {
     "cell_type": "markdown",
     "metadata": {},
     "source": [
      "Using what we learnt so far, we only need a way to **synchronize** repositories with collaborators.\n",
      "\n",
      "In this example, we are hosting our *master copy* in a public repository on [GitHub](https://github.com/).\n",
      "A popular alternative is [BitBucket](http://bitbucket.org/)."
     ]
    },
    {
     "cell_type": "markdown",
     "metadata": {
      "slideshow": {
       "slide_type": "fragment"
      }
     },
     "source": [
      "![](img/github-create-repo-01.png)"
     ]
    },
    {
     "cell_type": "markdown",
     "metadata": {
      "slideshow": {
       "slide_type": "fragment"
      }
     },
     "source": [
      "![](img/github-create-repo-02.png)"
     ]
    },
    {
     "cell_type": "markdown",
     "metadata": {
      "slideshow": {
       "slide_type": "subslide"
      }
     },
     "source": [
      "### TODO replace with screenshot for our repository"
     ]
    },
    {
     "cell_type": "markdown",
     "metadata": {
      "slideshow": {
       "slide_type": "slide"
      }
     },
     "source": [
      "# Pulling code for the workshop"
     ]
    },
    {
     "cell_type": "markdown",
     "metadata": {
      "slideshow": {
       "slide_type": "notes"
      }
     },
     "source": [
      "#### TODO check if git configuration or GitHub account are necessary to clone the repo below"
     ]
    },
    {
     "cell_type": "markdown",
     "metadata": {
      "slideshow": {
       "slide_type": "fragment"
      }
     },
     "source": [
      "```\n",
      "$ cd ~/CBioVikings\n",
      "$ git clone https://github.com/bitmask/efficient-programming-workshop.git\n",
      "```\n",
      "\n",
      "> Cloning into 'efficient-programming-workshop'...\n",
      ">\n",
      ">remote: Counting objects: 36, done.\n",
      ">\n",
      ">remote: Total 36 (delta 0), reused 0 (delta 0), pack-reused 36\n",
      ">\n",
      ">Unpacking objects: 100% (36/36), done.\n",
      ">\n",
      ">Checking connectivity... done.\n"
     ]
    },
    {
     "cell_type": "markdown",
     "metadata": {
      "slideshow": {
       "slide_type": "fragment"
      }
     },
     "source": [
      "```\n",
      "$ cd efficient-programming-workshop\n",
      "$ ls -la\n",
      "```\n",
      "\n",
      "> total 28\n",
      ">\n",
      ">drwxrwxr-x 5 ajunge ajunge 4096 Apr 10 19:00 .\n",
      ">\n",
      ">drwxrwxr-x 4 ajunge ajunge 4096 Apr 10 19:00 ..\n",
      ">\n",
      ">drwxrwxr-x 2 ajunge ajunge 4096 Apr 10 19:00 bin\n",
      ">\n",
      ">drwxrwxr-x 8 ajunge ajunge 4096 Apr 10 19:00 .git\n",
      ">\n",
      ">-rw-rw-r-- 1 ajunge ajunge   30 Apr 10 19:00 .gitignore\n",
      ">\n",
      ">-rw-rw-r-- 1 ajunge ajunge  264 Apr 10 19:00 README\n",
      ">\n",
      ">drwxrwxr-x 3 ajunge ajunge 4096 Apr 10 19:00 test"
     ]
    },
    {
     "cell_type": "markdown",
     "metadata": {
      "slideshow": {
       "slide_type": "fragment"
      }
     },
     "source": [
      "```\n",
      "$ git remote -v\n",
      "```\n",
      "\n",
      "> origin\thttps://github.com/bitmask/efficient-programming-workshop.git (fetch)\n",
      ">\n",
      ">origin\thttps://github.com/bitmask/efficient-programming-workshop.git (push)"
     ]
    },
    {
     "cell_type": "markdown",
     "metadata": {
      "slideshow": {
       "slide_type": "fragment"
      }
     },
     "source": [
      "- each team member has a local copy of the repository\n",
      "- contributions are stored in a central repository\n",
      "- central repository is hosted on GitHub\n",
      "\n",
      "![](img/github-collaboration.svg)"
     ]
    },
    {
     "cell_type": "markdown",
     "metadata": {
      "slideshow": {
       "slide_type": "slide"
      }
     },
     "source": [
      "## And now it is (almost) time to start coding"
     ]
    },
    {
     "cell_type": "markdown",
     "metadata": {
      "slideshow": {
       "slide_type": "slide"
      }
     },
     "source": [
      "## Branching"
     ]
    },
    {
     "cell_type": "markdown",
     "metadata": {
      "slideshow": {
       "slide_type": "-"
      }
     },
     "source": [
      "### TODO do we teach branching?"
     ]
    },
    {
     "cell_type": "markdown",
     "metadata": {
      "slideshow": {
       "slide_type": "slide"
      }
     },
     "source": [
      "## Pushing your code to GitHub"
     ]
    },
    {
     "cell_type": "markdown",
     "metadata": {
      "slideshow": {
       "slide_type": "fragment"
      }
     },
     "source": [
      "```\n",
      "$ git add myfile.txt\n",
      "$ git commit -m 'add another file'\n",
      "$ git push origin master\n",
      "```"
     ]
    },
    {
     "cell_type": "markdown",
     "metadata": {
      "slideshow": {
       "slide_type": "slide"
      }
     },
     "source": [
      "## Potential additional topics\n",
      "\n",
      "- conflicts\n",
      "- branching\n",
      "- team workflows\n",
      "\n",
      "These are probably out of scope this time and could be covered in a follow-up workshop."
     ]
    }
   ],
   "metadata": {}
  }
 ]
}